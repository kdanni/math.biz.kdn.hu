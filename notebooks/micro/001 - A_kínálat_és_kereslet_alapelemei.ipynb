{
 "cells": [
  {
   "cell_type": "markdown",
   "metadata": {},
   "source": [
    "# Economics 19th Edition\n",
    "## by Paul A. Samuelson, William D. Nordhaus\n",
    "\n",
    "- https://www.amazon.com/Economics-Paul-Samuelson/dp/0073511293\n",
    "- https://mersz.hu/samuelson-nordhaus-kozgazdasagtan//"
   ]
  },
  {
   "cell_type": "markdown",
   "metadata": {
    "id": "JL1ugiQOm4Xq"
   },
   "source": [
    "# A keresleti görbe\n",
    "\n",
    "A negatív meredekségű keresleti görbe a keresett mennyiséget és az árat kapcsolja össze\n",
    "A kukoricapehely keresleti görbéjénél a függőleges tengelyen mérjük az árat (P), a vízszintes tengelyen pedig a keresett mennyiséget (Q). A 3-1. táblázat minden egyes (P, Q) adatpárja egy pontként jelenik meg a grafikonon, azután folytonos görbét rajzolunk e pontok összekötésével, s így kapjuk meg a DD keresleti görbét. A lefelé hajló vonal a keresleti görbe negatív meredekségének szabályát mutatja."
   ]
  },
  {
   "cell_type": "code",
   "execution_count": null,
   "metadata": {
    "cellView": "form",
    "colab": {
     "base_uri": "https://localhost:8080/",
     "height": 455
    },
    "id": "UAxXxAWmnlDS",
    "outputId": "162f2db5-d79d-4fc5-ac66-4ec04a80097c"
   },
   "outputs": [],
   "source": [
    "# @title A keresleti görbe\n",
    "axis_aspect = 5.0 # @param {type:\"number\"}\n",
    "import numpy as np\n",
    "import matplotlib.pyplot as plt\n",
    "from scipy.interpolate import interp1d\n",
    "\n",
    "## Axis\n",
    "\n",
    "fig, ax = plt.subplots()\n",
    "ax.grid(True)\n",
    "ax.set_xlabel('Q')\n",
    "ax.set_xlim([0, 20])\n",
    "major_ticks = np.arange(0, 25, 5)\n",
    "ax.set_xticks(major_ticks)\n",
    "minor_ticks = np.arange(0, 20, 1)\n",
    "ax.tick_params(axis='x', which='minor', direction='in', length=5.0)\n",
    "ax.set_xticks(minor_ticks, minor=True)\n",
    "ax.set_ylabel('P')\n",
    "ax.set_ylim([0, 5])\n",
    "ax.set_aspect(axis_aspect)\n",
    "\n",
    "## Plot\n",
    "\n",
    "xpoints = np.array([9, 10, 12, 15, 20])\n",
    "ypoints = np.array([5, 4, 3, 2, 1])\n",
    "\n",
    "plt.plot(xpoints, ypoints, 'o')\n",
    "\n",
    "## interpolatie\n",
    "\n",
    "xnew = np.linspace(9, 20)\n",
    "f_cubic = interp1d(xpoints, ypoints, kind='cubic')\n",
    "plt.plot(xnew, f_cubic(xnew))\n",
    "\n",
    "\n",
    "plt.show()"
   ]
  },
  {
   "cell_type": "markdown",
   "metadata": {
    "id": "tFNQDCn5BO_W"
   },
   "source": [
    "# A kínálati görbe\n",
    "\n",
    "Az egyes termékek emelkedő kínálati görbéjének tipikus esetét látjuk az ábrán. A görbe emelkedésének egyik fontos oka a „csökkenő hozadék elve” (e fogalomról a későbbiekben többet is megtudunk). E fontos törvényszerűséget szemléltethetjük a bor példájával. Ha a társadalom több bort szeretne inni, akkor több munkáskézre van szükség a borszőlő termesztésére alkalmas korlátozott termőterületeken. Minden egyes új munkás felvételével egyre kisebb lesz a pótlólagos kibocsátás nagysága. A pótlólagos borkibocsátás előteremtéséhez szükséges ár ennek megfelelően egyre magasabb lesz. A bor árának emelésével a társadalom arra ösztönözheti a borászokat, hogy több bort termeljenek és forgalmazzanak; a bor kínálati görbéje ennek megfelelően pozitív meredekségű. Hasonló okfejtés vonatkozhat sok más termékre is."
   ]
  },
  {
   "cell_type": "code",
   "execution_count": null,
   "metadata": {
    "cellView": "form",
    "colab": {
     "base_uri": "https://localhost:8080/",
     "height": 455
    },
    "id": "jyIriNx-BbQ7",
    "outputId": "bfad5c73-f8d7-4049-c52d-0a1b158a5f1b"
   },
   "outputs": [],
   "source": [
    "# @title A kínálati görbe\n",
    "\n",
    "axis_aspect = 5.0 # @param {type:\"number\"}\n",
    "import numpy as np\n",
    "import matplotlib.pyplot as plt\n",
    "from scipy.interpolate import interp1d\n",
    "\n",
    "## Axis\n",
    "\n",
    "fig, ax = plt.subplots()\n",
    "ax.grid(True)\n",
    "ax.set_xlabel('Q')\n",
    "ax.set_xlim([0, 20])\n",
    "major_ticks = np.arange(0, 25, 5)\n",
    "ax.set_xticks(major_ticks)\n",
    "minor_ticks = np.arange(0, 20, 1)\n",
    "ax.tick_params(axis='x', which='minor', direction='in', length=5.0)\n",
    "ax.set_xticks(minor_ticks, minor=True)\n",
    "ax.set_ylabel('P')\n",
    "ax.set_ylim([0, 5])\n",
    "ax.set_aspect(axis_aspect)\n",
    "\n",
    "## Plot\n",
    "\n",
    "xpoints = np.array([0, 7, 12, 16, 18])\n",
    "ypoints = np.array([1, 2, 3, 4, 5])\n",
    "\n",
    "plt.plot(xpoints, ypoints, 'o')\n",
    "\n",
    "## interpolatie\n",
    "\n",
    "xnew = np.linspace(0, 18)\n",
    "f_cubic = interp1d(xpoints, ypoints, kind='cubic')\n",
    "plt.plot(xnew, f_cubic(xnew))\n",
    "\n",
    "\n",
    "plt.show()\n",
    "\n",
    "\n"
   ]
  },
  {
   "cell_type": "markdown",
   "metadata": {
    "id": "hsmqY2Ermu6N"
   },
   "source": [
    "# A piaci egyensúly\n",
    "\n",
    "A piaci egyensúlyi ár és mennyiség a kínálati és keresleti görbék metszéspontjában alakul ki. A C pontban, 3 dolláros ár mellett a vállalatok éppen annyit akarnak kínálni, mint amennyit a fogyasztók készek megvenni. Ha túl alacsony az ár (mondjuk 2 dollár), a keresett mennyiség meghaladja a kínált mennyiséget, áruhiány alakul ki, s ez felhajtja az árat az egyensúlyi szintre. Mi történik 4 dolláros ár esetén?"
   ]
  },
  {
   "cell_type": "code",
   "execution_count": null,
   "metadata": {
    "cellView": "form",
    "colab": {
     "base_uri": "https://localhost:8080/",
     "height": 449
    },
    "id": "oPHYMmkHm9tA",
    "outputId": "333c15b9-e66e-4a18-82ad-f50f079244f9"
   },
   "outputs": [],
   "source": [
    "# @title A piaci egyensúly\n",
    "axis_aspect = 5.0 # @param {type:\"number\"}\n",
    "import numpy as np\n",
    "import matplotlib.pyplot as plt\n",
    "from scipy.interpolate import interp1d\n",
    "\n",
    "## Axis\n",
    "\n",
    "fig, ax = plt.subplots()\n",
    "ax.grid(True)\n",
    "ax.set_xlabel('Q')\n",
    "ax.set_xlim([0, 20])\n",
    "major_ticks = np.arange(0, 25, 5)\n",
    "ax.set_xticks(major_ticks)\n",
    "minor_ticks = np.arange(0, 20, 1)\n",
    "ax.tick_params(axis='x', which='minor', direction='in', length=5.0)\n",
    "ax.set_xticks(minor_ticks, minor=True)\n",
    "ax.set_ylabel('P')\n",
    "ax.set_ylim([0, 5.5])\n",
    "ax.set_aspect(axis_aspect)\n",
    "\n",
    "## Plot\n",
    "\n",
    "xdpoints = np.array([9, 10, 12, 15, 20])\n",
    "ydpoints = np.array([5, 4, 3, 2, 1])\n",
    "xspoints = np.array([0, 7, 12, 16, 18])\n",
    "yspoints = np.array([1, 2, 3, 4, 5])\n",
    "\n",
    "plt.plot(xdpoints, ydpoints, 'o')\n",
    "plt.plot(xspoints, yspoints, 'o')\n",
    "\n",
    "## interpolatie\n",
    "\n",
    "xdnew = np.linspace(9, 20)\n",
    "f_cubic = interp1d(xdpoints, ydpoints, kind='cubic')\n",
    "plt.plot(xdnew, f_cubic(xdnew))\n",
    "\n",
    "xsnew = np.linspace(0, 18)\n",
    "f_cubic = interp1d(xspoints, yspoints, kind='cubic')\n",
    "plt.plot(xsnew, f_cubic(xsnew))\n",
    "\n",
    "## Text\n",
    "\n",
    "plt.plot([7,15],[2,2])\n",
    "plt.text(9.0, 1.75, r'Hiány', fontsize=15)\n",
    "plt.plot([9,18],[5,5])\n",
    "plt.text(11.0, 5.05, r'Többlet', fontsize=15)\n",
    "plt.plot([0,12],[3,3], '--')\n",
    "plt.plot([12,12],[0,3], '--')\n",
    "plt.text(12.3, 2.94, r'$\\blacktriangleleft$ Egyensúlyi pont', fontsize=12)\n",
    "# plt.text(-1.0, 2.94, r'$\\blacktriangleright$', fontsize=12)\n",
    "# plt.text(11.45, -0.2, r'$\\blacktriangleup$', fontsize=12)\n",
    "\n",
    "plt.show()"
   ]
  }
 ],
 "metadata": {
  "colab": {
   "provenance": []
  },
  "kernelspec": {
   "display_name": "Python 3",
   "name": "python3"
  },
  "language_info": {
   "codemirror_mode": {
    "name": "ipython",
    "version": 3
   },
   "file_extension": ".py",
   "mimetype": "text/x-python",
   "name": "python",
   "nbconvert_exporter": "python",
   "pygments_lexer": "ipython3",
   "version": "3.12.4"
  }
 },
 "nbformat": 4,
 "nbformat_minor": 0
}
