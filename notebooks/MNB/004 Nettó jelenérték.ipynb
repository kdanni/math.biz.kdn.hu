{
 "cells": [
  {
   "cell_type": "markdown",
   "id": "84ccafe1",
   "metadata": {},
   "source": [
    "# Nettó jelenérték\n",
    "\n",
    "mnb-oktatasi-fuzetek-2016-2szam-kotvenymatematika.pdf"
   ]
  },
  {
   "cell_type": "code",
   "execution_count": null,
   "id": "728cf804",
   "metadata": {},
   "outputs": [],
   "source": [
    "# Net present value\n",
    "def NPV(rate, cashflows):\n",
    "    total = 0.0\n",
    "    for i in range(1, len(cashflows) + 1):\n",
    "        total += cashflows[i-1] / (1 + rate) ** i\n",
    "    return total\n",
    "\n",
    "def IRR(cashflows, iterations=100):\n",
    "    rate = 1.0\n",
    "    investment = cashflows[0]\n",
    "    for i in range(1, iterations + 1):\n",
    "        rate *= (1 - NPV(rate, cashflows) / investment)\n",
    "    return rate\n",
    "\n",
    "from IPython.display import display, Markdown\n",
    "\n",
    "cashflows = [100, 100, 100, 600]\n",
    "r = 0.06\n",
    "\n",
    "npv1 = NPV(r, cashflows)\n",
    "display(Markdown(\"# Nettó jelenérték és Belső megtérülési ráta\\n## Example Cashflows\\n`%s`\" % cashflows))\n",
    "display(Markdown(\"## NPV\\n`NPV` = `%f`\" % npv1))\n",
    "display(Markdown(\"## IRR\\n`IRR` = `%f`\" % IRR([-1*npv1] + cashflows)))\n",
    "\n",
    "display(Markdown(\"## Relation of NPV and IRR\\n`NPV(IRR(cf),cf)` = `0` ≈ `%f`\" % NPV(IRR([-1*npv1] + cashflows), [-1*npv1] + cashflows)))\n"
   ]
  },
  {
   "cell_type": "markdown",
   "id": "ffad519b",
   "metadata": {},
   "source": [
    "## Excel functions\n",
    "\n",
    "- `'=NPV(rate;valu1;value2;...)`\n",
    "  - `=NPV(0,06;100;100;100;600)`\n",
    "- `'=IRR(array;[guess])`\n",
    "  - `=IRR({-742\\100\\100\\100\\600})`\n",
    "\n",
    "\n",
    "- horizontal array (hun local)\n",
    "  - `={-742\\100\\100\\100\\600}`\n",
    "  - `=HSTACK(E13:G13;H16:I16)`\n",
    "- vertical array (hun local)\n",
    "  - `={1;2;3;4;5}`\n",
    "  - `=VSTACK(E13;J14:J16;I16)`\n",
    "\n"
   ]
  },
  {
   "cell_type": "code",
   "execution_count": null,
   "id": "627a4ae0",
   "metadata": {},
   "outputs": [],
   "source": [
    "%pip install numpy-financial\n",
    "import numpy_financial as npf\n",
    "#import numpy as np\n",
    "\n",
    "display( npv1 )\n",
    "display( npf.irr([-1*npv1] + cashflows) )\n",
    "# display( np.irr([-1*npv1] + cashflows) )\n",
    "#display( np.npv(r , cashflows) )"
   ]
  },
  {
   "cell_type": "code",
   "execution_count": null,
   "id": "ea702f49",
   "metadata": {},
   "outputs": [],
   "source": [
    "%pip install pyxirr\n",
    "\n",
    "import pyxirr as xirr\n",
    "\n",
    "xnpv =  xirr.npv(r, cashflows, start_from_zero=False)\n",
    "display( xnpv )\n",
    "\n",
    "display( xirr.irr([-1*npv1] + cashflows) )\n",
    "display( xirr.irr([-1*xnpv] + cashflows) )\n"
   ]
  }
 ],
 "metadata": {
  "kernelspec": {
   "display_name": "Python 3 (ipykernel)",
   "language": "python",
   "name": "python3"
  },
  "language_info": {
   "codemirror_mode": {
    "name": "ipython",
    "version": 3
   },
   "file_extension": ".py",
   "mimetype": "text/x-python",
   "name": "python",
   "nbconvert_exporter": "python",
   "pygments_lexer": "ipython3",
   "version": "3.12.4"
  }
 },
 "nbformat": 4,
 "nbformat_minor": 5
}
