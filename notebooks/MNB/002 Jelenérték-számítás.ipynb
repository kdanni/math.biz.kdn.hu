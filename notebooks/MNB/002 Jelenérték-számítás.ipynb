{
 "cells": [
  {
   "cell_type": "markdown",
   "id": "84ccafe1",
   "metadata": {},
   "source": [
    "# Jelenérték-számítás\n",
    "\n",
    "mnb-oktatasi-fuzetek-2016-2szam-kotvenymatematika.pdf"
   ]
  },
  {
   "cell_type": "code",
   "execution_count": null,
   "id": "cc2696dd",
   "metadata": {},
   "outputs": [],
   "source": [
    "def PV(r,n,fv):\n",
    "    return fv/(1+r)**n\n",
    "\n",
    "def DF(r,n):\n",
    "    return 1/(1+r)**n\n",
    "\n",
    "# 100 Ft pénzáramlás jelenértéke az idő és a kamatláb függvényében\n",
    "\n",
    "import pandas as pd\n",
    "from IPython.display import display, Markdown\n",
    "import matplotlib.pyplot as plt\n",
    "\n",
    "\n",
    "plt.figure(figsize=(12, 6), layout='constrained')\n",
    "\n",
    "\n",
    "x = pd.Series(range(0,31))\n",
    "y0 = [PV(0.0,i,100) for i in x]\n",
    "y2 = [PV(0.02,i,100) for i in x]\n",
    "y5 = [PV(0.05,i,100) for i in x]\n",
    "y10 = [PV(0.10,i,100) for i in x]\n",
    "y30 = [PV(0.30,i,100) for i in x]\n",
    "\n",
    "plt.plot(x,y0,label='0%', color='red')\n",
    "plt.plot(x,y2,label='2%', color='blue')\n",
    "plt.plot(x,y5,label='5%', color='green')\n",
    "plt.plot(x,y10,label='10%', color='purple')\n",
    "plt.plot(x,y30,label='30%', color='orange' )\n",
    "\n",
    "plt.gca().set_ylim([0, 120])\n",
    "plt.gca().set_xlim([0, 30])\n",
    "plt.grid(axis='y',  linestyle='--')\n",
    "plt.xlabel('Év')\n",
    "plt.ylabel('Jelenérték')\n",
    "plt.title('100 Ft pénzáramlás jelenértéke az idő és a kamatláb függvényében')\n",
    "\n",
    "plt.legend()\n",
    "plt.show()\n"
   ]
  },
  {
   "cell_type": "markdown",
   "id": "e1c537ff",
   "metadata": {},
   "source": [
    "## Excel functions\n",
    "\n",
    "- `=PV(r;n;pmt;fv;Type)`\n",
    "  - Pmt: The payment made each period and cannot change over the life of the annuity.\n",
    "  - Fv: The future value, or a cash balance you want to attain after the last payment is made.\n",
    "  - Type Optional. The number 0 or 1 and indicates when payments are due.\n",
    "    - `0 or omitted`: At the end of the period\n",
    "    - `1`:\tAt the beginning of the period\n",
    "\n",
    "---\n",
    "- `=PV(0,05;2;;-100;1)` = 90,70 Ft\n",
    "- `=PV(0,05;5;;-100;1)` = 78,35 Ft"
   ]
  },
  {
   "cell_type": "code",
   "execution_count": null,
   "id": "0b7f9fd9",
   "metadata": {},
   "outputs": [],
   "source": [
    "# Discount Facctor table r = 1-15 %, n = 1-10 years\n",
    "\n",
    "r = pd.Series([i/100 for i in range(1,16)])\n",
    "n = pd.Series(range(1,11))\n",
    "\n",
    "plt.figure(figsize=(12, 6), layout='constrained')\n",
    "\n",
    "r_labels = ['{:,.0%}'.format(i) for i in r]\n",
    "n_labels = [f\"{i}. év\" for i in n]\n",
    "\n",
    "plt.table(cellText=[[round(DF(i,j),2) for i in r] for j in n], rowLabels=n_labels, colLabels=r_labels, loc='center')\n",
    "\n",
    "plt.axis('off')\n",
    "plt.title('Diszkontfaktor – 1 Ft jelenértéke')\n",
    "plt.show()\n",
    "\n",
    "display(Markdown('# Diszkontfaktor – 1 Ft jelenértéke'))\n",
    "df = pd.DataFrame([[round(DF(i,j),2) for i in r] for j in n], index=n_labels, columns=r_labels)\n",
    "display(df)\n"
   ]
  }
 ],
 "metadata": {
  "kernelspec": {
   "display_name": "Python 3 (ipykernel)",
   "language": "python",
   "name": "python3"
  },
  "language_info": {
   "codemirror_mode": {
    "name": "ipython",
    "version": 3
   },
   "file_extension": ".py",
   "mimetype": "text/x-python",
   "name": "python",
   "nbconvert_exporter": "python",
   "pygments_lexer": "ipython3",
   "version": "3.12.4"
  }
 },
 "nbformat": 4,
 "nbformat_minor": 5
}
