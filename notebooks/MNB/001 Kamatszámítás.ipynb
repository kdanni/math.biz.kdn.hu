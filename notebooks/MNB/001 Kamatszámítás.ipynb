{
 "cells": [
  {
   "cell_type": "markdown",
   "id": "84ccafe1",
   "metadata": {},
   "source": [
    "# Kamatszámítás\n",
    "\n",
    "mnb-oktatasi-fuzetek-2016-2szam-kotvenymatematika.pdf"
   ]
  },
  {
   "cell_type": "code",
   "execution_count": null,
   "id": "ec078491-1e3e-41d8-8947-fffd53c3ca07",
   "metadata": {},
   "outputs": [],
   "source": [
    "import math\n",
    "\n",
    "def FV(r,n,pv, simple=False):\n",
    "    if simple:\n",
    "        return pv*(1+r*n)\n",
    "    else:\n",
    "      return pv*(1+r)**n\n",
    "    \n",
    "def FV2(r, n, m, pv):\n",
    "    return pv*(1+r/m)**(n*m)\n",
    "\n",
    "def FV_continous(r,n,pv):\n",
    "    return pv*math.e**(r*n)\n",
    "\n",
    "\n",
    "import pandas as pd\n",
    "import matplotlib.pyplot as plt\n",
    "\n",
    "plt.figure(figsize=(12, 6), layout='constrained')\n",
    "\n",
    "x = pd.Series(range(0,26))\n",
    "y_simp = pd.Series([FV(0.05, n, 100, True) for n in x])\n",
    "y = pd.Series([FV(0.05, n, 100) for n in x])\n",
    "\n",
    "plt.plot(x,y_simp, color='red')\n",
    "plt.plot(x,y, color='blue')\n",
    "\n",
    "plt.grid(axis='y',  linestyle='--')\n",
    "plt.title('Az egyszerű és kamatos kamatozás hatása a befektetés értékére')\n",
    "plt.gcf().legend(loc='outside lower center', labels=['Egyszerű kamatozás', 'Kamatos kamatozás'])\n",
    "plt.show()\n"
   ]
  },
  {
   "cell_type": "code",
   "execution_count": null,
   "id": "258791df",
   "metadata": {},
   "outputs": [],
   "source": [
    "plt.figure(figsize=(12, 6), layout='constrained')\n",
    "\n",
    "x = pd.Series(range(0,26))\n",
    "y2 = pd.Series([FV(0.02, n, 100) for n in x])\n",
    "y5 = pd.Series([FV(0.05, n, 100) for n in x])\n",
    "y10 = pd.Series([FV(0.10, n, 100) for n in x])\n",
    "\n",
    "plt.plot(x,y2, color='red')\n",
    "plt.plot(x,y5, color='blue')\n",
    "plt.plot(x,y10, color='green')\n",
    "\n",
    "plt.grid(axis='y',  linestyle='--')\n",
    "plt.gca().set_ylim([0, 1300])\n",
    "plt.gca().set_xlim([0, 25])\n",
    "plt.title('A kamat nagyságának hatása a befektetés értékére')\n",
    "plt.gcf().legend(loc='outside lower center', labels=['2% kamat', '5% kamat', '10% kamat'])\n",
    "plt.show()"
   ]
  },
  {
   "cell_type": "code",
   "execution_count": null,
   "id": "70156f70",
   "metadata": {},
   "outputs": [],
   "source": [
    "# A kamatfizetés gyakoriságának hatása a befektetés értékére\n",
    "\n",
    "plt.figure(figsize=(12, 6), layout='constrained')\n",
    "\n",
    "x = pd.Series(range(0,26))\n",
    "\n",
    "r=0.20\n",
    "y_simp = pd.Series([FV(r, n, 100, True) for n in x])\n",
    "y1 = pd.Series([FV(r, n, 100) for n in x])\n",
    "y2 = pd.Series([FV2(r, n, 2, 100) for n in x])\n",
    "y4 = pd.Series([FV2(r, n, 4, 100) for n in x])\n",
    "y_c = pd.Series([FV_continous(r, n,100) for n in x])\n",
    "\n",
    "plt.plot(x,y_simp, color='red')\n",
    "plt.plot(x,y1, color='blue')\n",
    "plt.plot(x,y2, color='green')\n",
    "plt.plot(x,y4, color='purple')\n",
    "plt.plot(x,y_c, color='orange')\n",
    "\n",
    "plt.grid(axis='y',  linestyle='--')\n",
    "plt.gca().set_ylim([0, 16100])\n",
    "plt.gca().set_xlim([0, 25])\n",
    "plt.text(1, 15000, f\"Kamat (r): {r*100}%\", fontsize=12)\n",
    "plt.title('A kamatfizetés gyakoriságának hatása a befektetés értékére')\n",
    "plt.gcf().legend(loc='outside lower center', labels=['Egyszerű kamatozás','Éves kamatfizetés', 'Féléves kamatfizetés', 'Negyedéves kamatfizetés', 'Folyamatos kamatfizetés'])\n",
    "plt.show()"
   ]
  }
 ],
 "metadata": {
  "kernelspec": {
   "display_name": "Python 3 (ipykernel)",
   "language": "python",
   "name": "python3"
  },
  "language_info": {
   "codemirror_mode": {
    "name": "ipython",
    "version": 3
   },
   "file_extension": ".py",
   "mimetype": "text/x-python",
   "name": "python",
   "nbconvert_exporter": "python",
   "pygments_lexer": "ipython3",
   "version": "3.12.4"
  }
 },
 "nbformat": 4,
 "nbformat_minor": 5
}
