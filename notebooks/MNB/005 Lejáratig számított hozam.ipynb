{
 "cells": [
  {
   "cell_type": "markdown",
   "metadata": {},
   "source": [
    "# Lejáratig számított hozam\n",
    "\n",
    "mnb-oktatasi-fuzetek-2016-2szam-kotvenymatematika.pdf\n",
    "\n",
    "\n",
    "A pénzügyi befektetések értékelését is hasonló keretrendszer támogatja. Van\n",
    "egy megfigyelt piaci ár, ahol megvásárolhatunk egy eszközt, és kell, hogy\n",
    "legyen feltételezésünk az eszköz által generált pénzáramlásra, valamint a tő-\n",
    "keköltségre (lehetőség költség) nézve. A pénzáramlásra és a diszkontáláshoz\n",
    "használt kamatlábra vonatkozó becslésből származtatható az eszköz becsült\n",
    "értéke, amit a piaci árhoz viszonyítva eldönthetjük, hogy megéri-e az adott\n",
    "eszközbe fektetni. \n",
    "\n",
    "\n",
    "Másként fogalmazva: kiszámolhatjuk az eszköz belső megtérülési rátáját, és aztán ezt viszonyíthatjuk alternatív befektetési eszközökön\n",
    "elérhető hozamhoz."
   ]
  },
  {
   "cell_type": "code",
   "execution_count": null,
   "metadata": {},
   "outputs": [],
   "source": [
    "# Lejáratig számított hozam\n",
    "# Yield to Maturity (YTM)\n",
    "\n",
    "faceValue = 100\n",
    "price = 92.64\n",
    "couponRate = 0.05\n",
    "yearsToMaturity = 10\n"
   ]
  },
  {
   "cell_type": "code",
   "execution_count": null,
   "metadata": {},
   "outputs": [],
   "source": [
    "from IPython.display import display, Markdown\n",
    "import scipy.optimize as optimize\n",
    "\n",
    "def bond_ytm(price, couponRate, faceValue, yearsToMaturity):\n",
    "    \n",
    "    coupon = couponRate * faceValue\n",
    "    freq = 1\n",
    "    periods = yearsToMaturity * freq\n",
    "    dt = [(i + 1) / freq for i in range(int(periods))]\n",
    "    ytm_func = lambda y: sum([coupon / (1 + y / freq) ** (freq * t) for t in dt]) + faceValue / (1 + y / freq) ** (freq * yearsToMaturity) - price\n",
    "    return optimize.newton(ytm_func, 0)\n",
    "    \n",
    "\n",
    "display(Markdown(f\"# Bond Yield to Maturity (YTM)\\n\" +\n",
    "                  f\"\\n- Face Value: {faceValue}\" +\n",
    "                  f\"\\n- Price: {price}\" +\n",
    "                  f\"\\n- Coupon Rate: {couponRate}\" +\n",
    "                  f\"\\n- Years to Maturity: {yearsToMaturity}\" +\n",
    "                 f\"\\n\\n**YTM** = `{bond_ytm(price, couponRate, faceValue, yearsToMaturity)}`\" ))\n",
    "\n"
   ]
  },
  {
   "cell_type": "code",
   "execution_count": null,
   "metadata": {},
   "outputs": [],
   "source": [
    "# A befektető év elején vásárol egy 2 éves futamidejű kötvényt 97,50 Ft-\n",
    "# ért, ami a 2. év végi lejáratkor a 100 Ft-os névértéket fizeti ki. Feltéve,\n",
    "# hogy a futamidő alatt a kötvényből nem származott más cash flow,\n",
    "# mennyi volt a befektető teljes hozama az időszak alatt?\n",
    "\n",
    "display(f\"{(100 - 97.5) / 97.5:.2%}\")\n",
    "\n"
   ]
  },
  {
   "cell_type": "markdown",
   "metadata": {},
   "source": [
    "# Teljes hozam - HPR (Holding preiod return)\n",
    "\n",
    "A teljes hozam (holding period return, HPR) a tartási periódus alatt realizált\n",
    "összes hozamot jelenti. Ez a befektető tényleges hozama.\n",
    "\n",
    "\n",
    "`HPR = (V1−V0)/V0`\n",
    "\n",
    "\n",
    "# Évesített hozam - Annualized HPR\n",
    "\n",
    "A fenti példa nem veszi figyelembe, hogy milyen hosszú volt a befektetési\n",
    "időtáv. A befektetés időtartama lehetett volna 5 év is, akkor is ugyanennyi lett\n",
    "volna a teljes hozam. Ahhoz, hogy a különböző befektetéseket össze tudjuk\n",
    "hasonlítani („almát az almával”), a tartási periódus alatt elért hozamok egyen-\n",
    "értékesét kell alapul vennünk. Ez az egyenértékes pedig az évesített hozam.\n",
    "\n",
    "\n",
    "`(1+HPR) = (1+r) ** n`"
   ]
  },
  {
   "cell_type": "code",
   "execution_count": null,
   "metadata": {},
   "outputs": [],
   "source": [
    "def HPR(price1, price2):\n",
    "  return (price2 - price1) / price1\n",
    "\n",
    "# Annualized HPR\n",
    "def r(price1, price2, holdingPeriod):\n",
    "  return (1 + HPR(price1, price2)) ** (1 / holdingPeriod) - 1\n",
    "\n",
    "\n",
    "\n",
    "price1 = 97.5\n",
    "price2 = 100\n",
    "holdingPeriod = 2\n",
    "\n",
    "\n",
    "display(Markdown(f\"## HPR\\n`HPR` = `{HPR(price1, price2):.2%}`\"))\n",
    "display(Markdown(f\"## r\\n `r` = `{r(price1, price2, holdingPeriod):.2%}`\"))"
   ]
  },
  {
   "cell_type": "code",
   "execution_count": null,
   "metadata": {},
   "outputs": [],
   "source": [
    "\n",
    "def HPR_stock(price1, price2, dividend):\n",
    "  return (price2 - price1 + dividend) / price1\n",
    "\n",
    "\n"
   ]
  }
 ],
 "metadata": {
  "kernelspec": {
   "display_name": "math.biz",
   "language": "python",
   "name": "python3"
  },
  "language_info": {
   "codemirror_mode": {
    "name": "ipython",
    "version": 3
   },
   "file_extension": ".py",
   "mimetype": "text/x-python",
   "name": "python",
   "nbconvert_exporter": "python",
   "pygments_lexer": "ipython3",
   "version": "3.12.4"
  }
 },
 "nbformat": 4,
 "nbformat_minor": 2
}
